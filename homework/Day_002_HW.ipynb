{
 "cells": [
  {
   "cell_type": "markdown",
   "metadata": {},
   "source": [
    "## [作業目標]\n",
    "了解機器學習適合應用的領域與範疇。"
   ]
  },
  {
   "cell_type": "markdown",
   "metadata": {},
   "source": [
    "## [作業重點]\n",
    "透過瞭解機器學習的運作方式，找出非常適用機器學習應用的領域及其原因"
   ]
  },
  {
   "cell_type": "markdown",
   "metadata": {},
   "source": [
    "## 作業\n",
    "請找出一個你認為機器學習可以發光發熱的領域並闡述原因? "
   ]
  },
  {
   "cell_type": "code",
   "execution_count": null,
   "metadata": {},
   "outputs": [],
   "source": [
    "品管管理與染色調配:\n",
    "\n",
    "透過機器學習判定生產線上產品的品質瑕疵，不再使用人工方式挑選\n",
    "非常適用於天然材質製的產品，如木皮；\n",
    "染色調配也會因底材與色母的不同，造成業界多依賴經驗老道的師傅，\n",
    "若使用機器學習的方式，承接世代的斷層，調色不再需要用高薪聘請師傅\n",
    "\n",
    "色情行業:\n",
    "    \n",
    "最賺錢的行業別\n",
    "Deepfake等，已顯示機器學習在這塊的潛力"
   ]
  }
 ],
 "metadata": {
  "kernelspec": {
   "display_name": "Python 3",
   "language": "python",
   "name": "python3"
  },
  "language_info": {
   "codemirror_mode": {
    "name": "ipython",
    "version": 3
   },
   "file_extension": ".py",
   "mimetype": "text/x-python",
   "name": "python",
   "nbconvert_exporter": "python",
   "pygments_lexer": "ipython3",
   "version": "3.7.3"
  }
 },
 "nbformat": 4,
 "nbformat_minor": 2
}
